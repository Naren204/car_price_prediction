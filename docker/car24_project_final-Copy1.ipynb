{
 "cells": [
  {
   "cell_type": "code",
   "execution_count": 76,
   "metadata": {
    "ExecuteTime": {
     "end_time": "2021-03-09T06:26:50.017544Z",
     "start_time": "2021-03-09T06:26:50.010950Z"
    }
   },
   "outputs": [],
   "source": [
    "# Visualizations lib\n",
    "import matplotlib.pyplot as plt\n",
    "import matplotlib.ticker as mtick \n",
    "\n",
    "import pandas as pd\n",
    "import numpy as np\n",
    "pd.options.display.max_rows = 100\n",
    "# models\n",
    "from sklearn.impute import KNNImputer \n",
    "from sklearn.ensemble import ExtraTreesRegressor\n",
    "from sklearn.model_selection import train_test_split\n",
    "from sklearn.linear_model import LinearRegression, TheilSenRegressor\n",
    "\n",
    "import warnings\n",
    "warnings.filterwarnings('ignore')\n",
    "# from jupyterthemes import jtplot\n",
    "# jtplot.style()"
   ]
  },
  {
   "cell_type": "code",
   "execution_count": 77,
   "metadata": {
    "ExecuteTime": {
     "end_time": "2021-03-09T03:49:56.172584Z",
     "start_time": "2021-03-09T03:49:56.151915Z"
    }
   },
   "outputs": [],
   "source": [
    "df = pd.read_csv('car24_Delhi_records.csv')\n",
    "data = pd.DataFrame()"
   ]
  },
  {
   "cell_type": "code",
   "execution_count": 78,
   "metadata": {},
   "outputs": [
    {
     "data": {
      "text/html": [
       "<div>\n",
       "<style scoped>\n",
       "    .dataframe tbody tr th:only-of-type {\n",
       "        vertical-align: middle;\n",
       "    }\n",
       "\n",
       "    .dataframe tbody tr th {\n",
       "        vertical-align: top;\n",
       "    }\n",
       "\n",
       "    .dataframe thead th {\n",
       "        text-align: right;\n",
       "    }\n",
       "</style>\n",
       "<table border=\"1\" class=\"dataframe\">\n",
       "  <thead>\n",
       "    <tr style=\"text-align: right;\">\n",
       "      <th></th>\n",
       "      <th>Unnamed: 0</th>\n",
       "      <th>Kilometers</th>\n",
       "      <th>cars_model</th>\n",
       "      <th>Year</th>\n",
       "      <th>Owner_Type</th>\n",
       "      <th>Insurance_Date</th>\n",
       "      <th>Insurance_Type</th>\n",
       "      <th>RTO</th>\n",
       "      <th>Fuel_Type</th>\n",
       "      <th>Transmission_Type</th>\n",
       "      <th>Price</th>\n",
       "    </tr>\n",
       "  </thead>\n",
       "  <tbody>\n",
       "    <tr>\n",
       "      <th>0</th>\n",
       "      <td>0</td>\n",
       "      <td>50,007 km</td>\n",
       "      <td>2014 Tata Nano XT TWIST</td>\n",
       "      <td>December 2014</td>\n",
       "      <td>First Owner</td>\n",
       "      <td>22/2/2021</td>\n",
       "      <td>Comp</td>\n",
       "      <td>DL11</td>\n",
       "      <td>Petrol</td>\n",
       "      <td>MANUAL</td>\n",
       "      <td>₹ 114,899</td>\n",
       "    </tr>\n",
       "    <tr>\n",
       "      <th>1</th>\n",
       "      <td>1</td>\n",
       "      <td>19,577 km</td>\n",
       "      <td>2016 Maruti Celerio ZXI OPT AMT</td>\n",
       "      <td>April 2016</td>\n",
       "      <td>First Owner</td>\n",
       "      <td>10/5/2021</td>\n",
       "      <td>Zero_Dep</td>\n",
       "      <td>DL6C</td>\n",
       "      <td>Petrol</td>\n",
       "      <td>AUTOMATIC</td>\n",
       "      <td>₹ 368,499</td>\n",
       "    </tr>\n",
       "    <tr>\n",
       "      <th>2</th>\n",
       "      <td>2</td>\n",
       "      <td>57,650 km</td>\n",
       "      <td>2011 Maruti Wagon R 1.0 LXI CNG</td>\n",
       "      <td>May 2011</td>\n",
       "      <td>Second Owner</td>\n",
       "      <td>20/9/2021</td>\n",
       "      <td>Third_party</td>\n",
       "      <td>DL8C</td>\n",
       "      <td>Petrol + CNG</td>\n",
       "      <td>MANUAL</td>\n",
       "      <td>₹ 196,199</td>\n",
       "    </tr>\n",
       "    <tr>\n",
       "      <th>3</th>\n",
       "      <td>3</td>\n",
       "      <td>47,447 km</td>\n",
       "      <td>2010 Hyundai Santro Xing GLS</td>\n",
       "      <td>March 2010</td>\n",
       "      <td>First Owner</td>\n",
       "      <td>27/3/2021</td>\n",
       "      <td>Comp</td>\n",
       "      <td>DL3C</td>\n",
       "      <td>Petrol + CNG</td>\n",
       "      <td>MANUAL</td>\n",
       "      <td>₹ 156,460</td>\n",
       "    </tr>\n",
       "    <tr>\n",
       "      <th>4</th>\n",
       "      <td>4</td>\n",
       "      <td>13,337 km</td>\n",
       "      <td>2016 Maruti Alto K10 LXI</td>\n",
       "      <td>May 2016</td>\n",
       "      <td>First Owner</td>\n",
       "      <td>2/11/2021</td>\n",
       "      <td>Expired</td>\n",
       "      <td>DL6C</td>\n",
       "      <td>Petrol</td>\n",
       "      <td>MANUAL</td>\n",
       "      <td>₹ 293,447</td>\n",
       "    </tr>\n",
       "    <tr>\n",
       "      <th>...</th>\n",
       "      <td>...</td>\n",
       "      <td>...</td>\n",
       "      <td>...</td>\n",
       "      <td>...</td>\n",
       "      <td>...</td>\n",
       "      <td>...</td>\n",
       "      <td>...</td>\n",
       "      <td>...</td>\n",
       "      <td>...</td>\n",
       "      <td>...</td>\n",
       "      <td>...</td>\n",
       "    </tr>\n",
       "    <tr>\n",
       "      <th>2373</th>\n",
       "      <td>2373</td>\n",
       "      <td>4,640 km</td>\n",
       "      <td>2011 Hyundai i20 ASTA 1.2</td>\n",
       "      <td>April 2015</td>\n",
       "      <td>First Owner</td>\n",
       "      <td>28/5/2021</td>\n",
       "      <td>Comprehensive</td>\n",
       "      <td>DL2C</td>\n",
       "      <td>NaN</td>\n",
       "      <td>MANUAL</td>\n",
       "      <td>₹ 200,000</td>\n",
       "    </tr>\n",
       "    <tr>\n",
       "      <th>2374</th>\n",
       "      <td>2374</td>\n",
       "      <td>56,245 km</td>\n",
       "      <td>2012 Mahindra XUV500 W8 FWD</td>\n",
       "      <td>April 2010</td>\n",
       "      <td>Second Owner</td>\n",
       "      <td>12/5/2021</td>\n",
       "      <td>Zero_Dep</td>\n",
       "      <td>DL1C</td>\n",
       "      <td>Petrol</td>\n",
       "      <td>MANUAL</td>\n",
       "      <td>₹ 415,000</td>\n",
       "    </tr>\n",
       "    <tr>\n",
       "      <th>2375</th>\n",
       "      <td>2375</td>\n",
       "      <td>43,850 km</td>\n",
       "      <td>2019 Jeep Compass 1.4 LIMITED PLUS AT</td>\n",
       "      <td>April 2016</td>\n",
       "      <td>First Owner</td>\n",
       "      <td>1/11/2021</td>\n",
       "      <td>Zero Depreciation</td>\n",
       "      <td>DL10</td>\n",
       "      <td>Diesel</td>\n",
       "      <td>MANUAL</td>\n",
       "      <td>₹ 1,850,000</td>\n",
       "    </tr>\n",
       "    <tr>\n",
       "      <th>2376</th>\n",
       "      <td>2376</td>\n",
       "      <td>83,470 km</td>\n",
       "      <td>2013 Maruti Swift VDI</td>\n",
       "      <td>September 2011</td>\n",
       "      <td>First Owner</td>\n",
       "      <td>27/1/2021</td>\n",
       "      <td>NaN</td>\n",
       "      <td>DL2C</td>\n",
       "      <td>NaN</td>\n",
       "      <td>MANUAL</td>\n",
       "      <td>₹ 280,000</td>\n",
       "    </tr>\n",
       "    <tr>\n",
       "      <th>2377</th>\n",
       "      <td>2377</td>\n",
       "      <td>16,640 km</td>\n",
       "      <td>2008 Hyundai i10 MAGNA 1.1 IRDE2</td>\n",
       "      <td>April 2019</td>\n",
       "      <td>First Owner</td>\n",
       "      <td>19/1/2021</td>\n",
       "      <td>3rd Party</td>\n",
       "      <td>DL4C</td>\n",
       "      <td>Petrol</td>\n",
       "      <td>MANUAL</td>\n",
       "      <td>₹ 131,495</td>\n",
       "    </tr>\n",
       "  </tbody>\n",
       "</table>\n",
       "<p>2378 rows × 11 columns</p>\n",
       "</div>"
      ],
      "text/plain": [
       "      Unnamed: 0 Kilometers                             cars_model  \\\n",
       "0              0  50,007 km                2014 Tata Nano XT TWIST   \n",
       "1              1  19,577 km        2016 Maruti Celerio ZXI OPT AMT   \n",
       "2              2  57,650 km        2011 Maruti Wagon R 1.0 LXI CNG   \n",
       "3              3  47,447 km           2010 Hyundai Santro Xing GLS   \n",
       "4              4  13,337 km               2016 Maruti Alto K10 LXI   \n",
       "...          ...        ...                                    ...   \n",
       "2373        2373   4,640 km              2011 Hyundai i20 ASTA 1.2   \n",
       "2374        2374  56,245 km            2012 Mahindra XUV500 W8 FWD   \n",
       "2375        2375  43,850 km  2019 Jeep Compass 1.4 LIMITED PLUS AT   \n",
       "2376        2376  83,470 km                  2013 Maruti Swift VDI   \n",
       "2377        2377  16,640 km       2008 Hyundai i10 MAGNA 1.1 IRDE2   \n",
       "\n",
       "                Year    Owner_Type Insurance_Date     Insurance_Type   RTO  \\\n",
       "0      December 2014   First Owner      22/2/2021               Comp  DL11   \n",
       "1         April 2016   First Owner      10/5/2021           Zero_Dep  DL6C   \n",
       "2           May 2011  Second Owner      20/9/2021        Third_party  DL8C   \n",
       "3         March 2010   First Owner      27/3/2021               Comp  DL3C   \n",
       "4           May 2016   First Owner      2/11/2021            Expired  DL6C   \n",
       "...              ...           ...            ...                ...   ...   \n",
       "2373      April 2015   First Owner      28/5/2021      Comprehensive  DL2C   \n",
       "2374      April 2010  Second Owner      12/5/2021           Zero_Dep  DL1C   \n",
       "2375      April 2016   First Owner      1/11/2021  Zero Depreciation  DL10   \n",
       "2376  September 2011   First Owner      27/1/2021                NaN  DL2C   \n",
       "2377      April 2019   First Owner      19/1/2021          3rd Party  DL4C   \n",
       "\n",
       "         Fuel_Type Transmission_Type        Price  \n",
       "0           Petrol            MANUAL    ₹ 114,899  \n",
       "1           Petrol         AUTOMATIC    ₹ 368,499  \n",
       "2     Petrol + CNG            MANUAL    ₹ 196,199  \n",
       "3     Petrol + CNG            MANUAL    ₹ 156,460  \n",
       "4           Petrol            MANUAL    ₹ 293,447  \n",
       "...            ...               ...          ...  \n",
       "2373           NaN            MANUAL    ₹ 200,000  \n",
       "2374        Petrol            MANUAL    ₹ 415,000  \n",
       "2375        Diesel            MANUAL  ₹ 1,850,000  \n",
       "2376           NaN            MANUAL    ₹ 280,000  \n",
       "2377        Petrol            MANUAL    ₹ 131,495  \n",
       "\n",
       "[2378 rows x 11 columns]"
      ]
     },
     "execution_count": 78,
     "metadata": {},
     "output_type": "execute_result"
    }
   ],
   "source": [
    "df"
   ]
  },
  {
   "cell_type": "code",
   "execution_count": 79,
   "metadata": {
    "ExecuteTime": {
     "end_time": "2021-03-09T03:49:57.236678Z",
     "start_time": "2021-03-09T03:49:57.158282Z"
    }
   },
   "outputs": [],
   "source": [
    "data1 = [] \n",
    "data2 = []\n",
    "data3 = []\n",
    "for i in range(0,len(df)):\n",
    "    model  = df['cars_model'][i][5:-1]\n",
    "    data1.append(model)\n",
    "    brand = ' '.join(df['cars_model'][i][5:-1].split()[:1])\n",
    "    data2.append(brand)\n",
    "    car_model = ' '.join(df['cars_model'][i][5:-1].split()[1:2])\n",
    "    data3.append(car_model)\n",
    "\n",
    "data['Car_model'] = data1\n",
    "# data['Brand_name'] = data2\n",
    "#data['Model_name'] = data3"
   ]
  },
  {
   "cell_type": "code",
   "execution_count": 80,
   "metadata": {},
   "outputs": [
    {
     "data": {
      "text/plain": [
       "'i10 MAGNA'"
      ]
     },
     "execution_count": 80,
     "metadata": {},
     "output_type": "execute_result"
    }
   ],
   "source": [
    "' '.join(df['cars_model'][i][5:-1].split()[1:3])"
   ]
  },
  {
   "cell_type": "code",
   "execution_count": 81,
   "metadata": {},
   "outputs": [
    {
     "data": {
      "text/plain": [
       "'Celerio'"
      ]
     },
     "execution_count": 81,
     "metadata": {},
     "output_type": "execute_result"
    }
   ],
   "source": [
    "df['cars_model'][1][5:-1].split()[1]"
   ]
  },
  {
   "cell_type": "code",
   "execution_count": 82,
   "metadata": {},
   "outputs": [],
   "source": [
    "# ab = df.Year.str.split(\" \",n=-1,expand=True)\n",
    "# ab"
   ]
  },
  {
   "cell_type": "code",
   "execution_count": 83,
   "metadata": {
    "ExecuteTime": {
     "end_time": "2021-03-09T03:49:58.245150Z",
     "start_time": "2021-03-09T03:49:58.231220Z"
    }
   },
   "outputs": [],
   "source": [
    "df['Year'][1] = df.Year.str.split(\" \",n=-1,expand=True)\n",
    "data['Year'] = df['Year'][1][1]"
   ]
  },
  {
   "cell_type": "code",
   "execution_count": 84,
   "metadata": {
    "ExecuteTime": {
     "end_time": "2021-03-09T03:50:00.020872Z",
     "start_time": "2021-03-09T03:49:59.990798Z"
    }
   },
   "outputs": [],
   "source": [
    "df['Kilometers'][1] = df.Kilometers.str.split(\" \",n=-1,expand=True)\n",
    "data['Kilometers'] = df['Kilometers'][1][0]\n",
    "data['Kilometers'] = data['Kilometers'].str.replace(',','')\n",
    "data[\"Kilometers\"] = pd.to_numeric(data[\"Kilometers\"])"
   ]
  },
  {
   "cell_type": "code",
   "execution_count": 85,
   "metadata": {
    "ExecuteTime": {
     "end_time": "2021-03-09T03:50:00.760641Z",
     "start_time": "2021-03-09T03:50:00.750751Z"
    }
   },
   "outputs": [],
   "source": [
    "data['Fuel_Type'] = df['Fuel_Type']\n",
    "data['Owner_Type'] = df['Owner_Type']\n",
    "data['Insurance_Type'] = df['Insurance_Type']\n",
    "data['RTO'] = df['RTO']\n",
    "data['Transmission_Type'] = df['Transmission_Type']"
   ]
  },
  {
   "cell_type": "code",
   "execution_count": 86,
   "metadata": {
    "ExecuteTime": {
     "end_time": "2021-03-09T03:50:02.054733Z",
     "start_time": "2021-03-09T03:50:02.037681Z"
    }
   },
   "outputs": [],
   "source": [
    "df['Price'][1] = df.Price.str.split(\" \", n=-1, expand=True)\n",
    "data['Price'] = df['Price'][1][1]\n",
    "data['Price'] = data['Price'].str.replace(',','')\n",
    "data[\"Price\"] = pd.to_numeric(data[\"Price\"])"
   ]
  },
  {
   "cell_type": "code",
   "execution_count": 87,
   "metadata": {
    "ExecuteTime": {
     "end_time": "2021-03-09T03:50:03.114534Z",
     "start_time": "2021-03-09T03:50:03.100370Z"
    }
   },
   "outputs": [
    {
     "name": "stdout",
     "output_type": "stream",
     "text": [
      "<class 'pandas.core.frame.DataFrame'>\n",
      "RangeIndex: 2378 entries, 0 to 2377\n",
      "Data columns (total 9 columns):\n",
      " #   Column             Non-Null Count  Dtype  \n",
      "---  ------             --------------  -----  \n",
      " 0   Car_model          2378 non-null   object \n",
      " 1   Year               2357 non-null   object \n",
      " 2   Kilometers         2357 non-null   float64\n",
      " 3   Fuel_Type          2357 non-null   object \n",
      " 4   Owner_Type         2357 non-null   object \n",
      " 5   Insurance_Type     2359 non-null   object \n",
      " 6   RTO                2378 non-null   object \n",
      " 7   Transmission_Type  2225 non-null   object \n",
      " 8   Price              2378 non-null   int64  \n",
      "dtypes: float64(1), int64(1), object(7)\n",
      "memory usage: 167.3+ KB\n"
     ]
    }
   ],
   "source": [
    "data.info()"
   ]
  },
  {
   "cell_type": "code",
   "execution_count": 88,
   "metadata": {},
   "outputs": [],
   "source": [
    "# # data['No. of years'] = data.apply(lambda x:2021-int(x))\n",
    "# data.drop(['Car_model','Year'],axis=1,inplace=True)"
   ]
  },
  {
   "cell_type": "code",
   "execution_count": 89,
   "metadata": {
    "ExecuteTime": {
     "end_time": "2021-03-09T03:50:07.122322Z",
     "start_time": "2021-03-09T03:50:07.099533Z"
    }
   },
   "outputs": [
    {
     "data": {
      "text/html": [
       "<div>\n",
       "<style scoped>\n",
       "    .dataframe tbody tr th:only-of-type {\n",
       "        vertical-align: middle;\n",
       "    }\n",
       "\n",
       "    .dataframe tbody tr th {\n",
       "        vertical-align: top;\n",
       "    }\n",
       "\n",
       "    .dataframe thead th {\n",
       "        text-align: right;\n",
       "    }\n",
       "</style>\n",
       "<table border=\"1\" class=\"dataframe\">\n",
       "  <thead>\n",
       "    <tr style=\"text-align: right;\">\n",
       "      <th></th>\n",
       "      <th>Car_model</th>\n",
       "      <th>Year</th>\n",
       "      <th>Kilometers</th>\n",
       "      <th>Fuel_Type</th>\n",
       "      <th>Owner_Type</th>\n",
       "      <th>Insurance_Type</th>\n",
       "      <th>RTO</th>\n",
       "      <th>Transmission_Type</th>\n",
       "      <th>Price</th>\n",
       "    </tr>\n",
       "  </thead>\n",
       "  <tbody>\n",
       "    <tr>\n",
       "      <th>0</th>\n",
       "      <td>Tata Nano XT TWIS</td>\n",
       "      <td>2014</td>\n",
       "      <td>50007.0</td>\n",
       "      <td>Petrol</td>\n",
       "      <td>First Owner</td>\n",
       "      <td>Comp</td>\n",
       "      <td>DL11</td>\n",
       "      <td>MANUAL</td>\n",
       "      <td>114899</td>\n",
       "    </tr>\n",
       "    <tr>\n",
       "      <th>1</th>\n",
       "      <td>Maruti Celerio ZXI OPT AM</td>\n",
       "      <td>2016</td>\n",
       "      <td>19577.0</td>\n",
       "      <td>Petrol</td>\n",
       "      <td>First Owner</td>\n",
       "      <td>Zero_Dep</td>\n",
       "      <td>DL6C</td>\n",
       "      <td>AUTOMATIC</td>\n",
       "      <td>368499</td>\n",
       "    </tr>\n",
       "    <tr>\n",
       "      <th>2</th>\n",
       "      <td>Maruti Wagon R 1.0 LXI CN</td>\n",
       "      <td>2011</td>\n",
       "      <td>57650.0</td>\n",
       "      <td>Petrol + CNG</td>\n",
       "      <td>Second Owner</td>\n",
       "      <td>Third_party</td>\n",
       "      <td>DL8C</td>\n",
       "      <td>MANUAL</td>\n",
       "      <td>196199</td>\n",
       "    </tr>\n",
       "    <tr>\n",
       "      <th>3</th>\n",
       "      <td>Hyundai Santro Xing GL</td>\n",
       "      <td>2010</td>\n",
       "      <td>47447.0</td>\n",
       "      <td>Petrol + CNG</td>\n",
       "      <td>First Owner</td>\n",
       "      <td>Comp</td>\n",
       "      <td>DL3C</td>\n",
       "      <td>MANUAL</td>\n",
       "      <td>156460</td>\n",
       "    </tr>\n",
       "    <tr>\n",
       "      <th>4</th>\n",
       "      <td>Maruti Alto K10 LX</td>\n",
       "      <td>2016</td>\n",
       "      <td>13337.0</td>\n",
       "      <td>Petrol</td>\n",
       "      <td>First Owner</td>\n",
       "      <td>Expired</td>\n",
       "      <td>DL6C</td>\n",
       "      <td>MANUAL</td>\n",
       "      <td>293447</td>\n",
       "    </tr>\n",
       "    <tr>\n",
       "      <th>5</th>\n",
       "      <td>Maruti Alto K10 LX</td>\n",
       "      <td>2011</td>\n",
       "      <td>32089.0</td>\n",
       "      <td>Petrol</td>\n",
       "      <td>Second Owner</td>\n",
       "      <td>Third_party</td>\n",
       "      <td>DL3C</td>\n",
       "      <td>MANUAL</td>\n",
       "      <td>173699</td>\n",
       "    </tr>\n",
       "    <tr>\n",
       "      <th>6</th>\n",
       "      <td>Maruti Alto 800 LX</td>\n",
       "      <td>2013</td>\n",
       "      <td>NaN</td>\n",
       "      <td>Petrol</td>\n",
       "      <td>First Owner</td>\n",
       "      <td>Comp</td>\n",
       "      <td>DL9C</td>\n",
       "      <td>MANUAL</td>\n",
       "      <td>203081</td>\n",
       "    </tr>\n",
       "    <tr>\n",
       "      <th>7</th>\n",
       "      <td>Maruti Ritz VDI</td>\n",
       "      <td>NaN</td>\n",
       "      <td>28769.0</td>\n",
       "      <td>Diesel</td>\n",
       "      <td>First Owner</td>\n",
       "      <td>Comp</td>\n",
       "      <td>DL9C</td>\n",
       "      <td>MANUAL</td>\n",
       "      <td>300199</td>\n",
       "    </tr>\n",
       "    <tr>\n",
       "      <th>8</th>\n",
       "      <td>Maruti Celerio ZXI AM</td>\n",
       "      <td>2012</td>\n",
       "      <td>16061.0</td>\n",
       "      <td>Petrol</td>\n",
       "      <td>NaN</td>\n",
       "      <td>Comp</td>\n",
       "      <td>DL9C</td>\n",
       "      <td>AUTOMATIC</td>\n",
       "      <td>399804</td>\n",
       "    </tr>\n",
       "    <tr>\n",
       "      <th>9</th>\n",
       "      <td>Hyundai i10 MAGNA 1.1 IRDE</td>\n",
       "      <td>2018</td>\n",
       "      <td>18002.0</td>\n",
       "      <td>NaN</td>\n",
       "      <td>Second Owner</td>\n",
       "      <td>Comp</td>\n",
       "      <td>DL2C</td>\n",
       "      <td>MANUAL</td>\n",
       "      <td>172600</td>\n",
       "    </tr>\n",
       "  </tbody>\n",
       "</table>\n",
       "</div>"
      ],
      "text/plain": [
       "                    Car_model  Year  Kilometers     Fuel_Type    Owner_Type  \\\n",
       "0           Tata Nano XT TWIS  2014     50007.0        Petrol   First Owner   \n",
       "1   Maruti Celerio ZXI OPT AM  2016     19577.0        Petrol   First Owner   \n",
       "2   Maruti Wagon R 1.0 LXI CN  2011     57650.0  Petrol + CNG  Second Owner   \n",
       "3      Hyundai Santro Xing GL  2010     47447.0  Petrol + CNG   First Owner   \n",
       "4          Maruti Alto K10 LX  2016     13337.0        Petrol   First Owner   \n",
       "5          Maruti Alto K10 LX  2011     32089.0        Petrol  Second Owner   \n",
       "6          Maruti Alto 800 LX  2013         NaN        Petrol   First Owner   \n",
       "7             Maruti Ritz VDI   NaN     28769.0        Diesel   First Owner   \n",
       "8       Maruti Celerio ZXI AM  2012     16061.0        Petrol           NaN   \n",
       "9  Hyundai i10 MAGNA 1.1 IRDE  2018     18002.0           NaN  Second Owner   \n",
       "\n",
       "  Insurance_Type   RTO Transmission_Type   Price  \n",
       "0           Comp  DL11            MANUAL  114899  \n",
       "1       Zero_Dep  DL6C         AUTOMATIC  368499  \n",
       "2    Third_party  DL8C            MANUAL  196199  \n",
       "3           Comp  DL3C            MANUAL  156460  \n",
       "4        Expired  DL6C            MANUAL  293447  \n",
       "5    Third_party  DL3C            MANUAL  173699  \n",
       "6           Comp  DL9C            MANUAL  203081  \n",
       "7           Comp  DL9C            MANUAL  300199  \n",
       "8           Comp  DL9C         AUTOMATIC  399804  \n",
       "9           Comp  DL2C            MANUAL  172600  "
      ]
     },
     "execution_count": 89,
     "metadata": {},
     "output_type": "execute_result"
    }
   ],
   "source": [
    "data.head(10)"
   ]
  },
  {
   "cell_type": "code",
   "execution_count": 90,
   "metadata": {},
   "outputs": [],
   "source": [
    "# data['Model_name'].nunique()"
   ]
  },
  {
   "cell_type": "code",
   "execution_count": 91,
   "metadata": {
    "ExecuteTime": {
     "end_time": "2021-03-09T03:50:13.376600Z",
     "start_time": "2021-03-09T03:50:13.367518Z"
    }
   },
   "outputs": [
    {
     "data": {
      "text/plain": [
       "Car_model              0\n",
       "Year                  21\n",
       "Kilometers            21\n",
       "Fuel_Type             21\n",
       "Owner_Type            21\n",
       "Insurance_Type        19\n",
       "RTO                    0\n",
       "Transmission_Type    153\n",
       "Price                  0\n",
       "dtype: int64"
      ]
     },
     "execution_count": 91,
     "metadata": {},
     "output_type": "execute_result"
    }
   ],
   "source": [
    "data.isna().sum()"
   ]
  },
  {
   "cell_type": "code",
   "execution_count": 92,
   "metadata": {
    "ExecuteTime": {
     "end_time": "2021-03-09T03:50:17.829859Z",
     "start_time": "2021-03-09T03:50:17.476358Z"
    }
   },
   "outputs": [
    {
     "data": {
      "text/plain": [
       "Text(0.5, 1.0, 'Percentage of missing values per feature')"
      ]
     },
     "execution_count": 92,
     "metadata": {},
     "output_type": "execute_result"
    },
    {
     "data": {
      "image/png": "[encoded data removed]",
      "text/plain": [
       "<Figure size 432x288 with 1 Axes>"
      ]
     },
     "metadata": {
      "needs_background": "light"
     },
     "output_type": "display_data"
    }
   ],
   "source": [
    "new_data = data.copy()\n",
    "new_data.isna().sum()\n",
    "ax = (new_data.isnull().mean() * 100).plot(kind='bar', color ='orange')\n",
    "ax.yaxis.set_major_formatter(mtick.PercentFormatter())\n",
    "plt.title('Percentage of missing values per feature')"
   ]
  },
  {
   "cell_type": "code",
   "execution_count": 93,
   "metadata": {
    "ExecuteTime": {
     "end_time": "2021-03-09T03:48:36.305039Z",
     "start_time": "2021-03-09T03:48:36.297780Z"
    }
   },
   "outputs": [
    {
     "data": {
      "text/plain": [
       "array(['Comp', 'Zero_Dep', 'Third_party', 'Expired', nan,\n",
       "       'Insurance Expired', 'Comprehensive', 'Zero Depreciation',\n",
       "       '3rd Party'], dtype=object)"
      ]
     },
     "execution_count": 93,
     "metadata": {},
     "output_type": "execute_result"
    }
   ],
   "source": [
    "data['Insurance_Type'].unique()"
   ]
  },
  {
   "cell_type": "code",
   "execution_count": 94,
   "metadata": {
    "ExecuteTime": {
     "end_time": "2021-03-09T03:48:37.252473Z",
     "start_time": "2021-03-09T03:48:37.239272Z"
    }
   },
   "outputs": [
    {
     "data": {
      "text/plain": [
       "array(['2014', '2016', '2011', '2010', '2013', nan, '2012', '2018',\n",
       "       '2017', '2019', '2015', '2008', '2020', '2009', '2007', '2006',\n",
       "       '2005', '2002'], dtype=object)"
      ]
     },
     "execution_count": 94,
     "metadata": {},
     "output_type": "execute_result"
    }
   ],
   "source": [
    "data['Year'].unique()"
   ]
  },
  {
   "cell_type": "code",
   "execution_count": 95,
   "metadata": {
    "ExecuteTime": {
     "end_time": "2021-03-09T03:48:37.625983Z",
     "start_time": "2021-03-09T03:48:37.619641Z"
    }
   },
   "outputs": [
    {
     "data": {
      "text/plain": [
       "array(['Petrol', 'Petrol + CNG', 'Diesel', nan, 'Petrol + LPG',\n",
       "       'Electric'], dtype=object)"
      ]
     },
     "execution_count": 95,
     "metadata": {},
     "output_type": "execute_result"
    }
   ],
   "source": [
    "data['Fuel_Type'].unique()"
   ]
  },
  {
   "cell_type": "code",
   "execution_count": 96,
   "metadata": {},
   "outputs": [
    {
     "data": {
      "text/plain": [
       "Petrol          1435\n",
       "Diesel           620\n",
       "Petrol + CNG     299\n",
       "Petrol + LPG       2\n",
       "Electric           1\n",
       "Name: Fuel_Type, dtype: int64"
      ]
     },
     "execution_count": 96,
     "metadata": {},
     "output_type": "execute_result"
    }
   ],
   "source": [
    "data['Fuel_Type'].value_counts()"
   ]
  },
  {
   "cell_type": "code",
   "execution_count": 97,
   "metadata": {
    "ExecuteTime": {
     "end_time": "2021-03-09T03:48:38.746944Z",
     "start_time": "2021-03-09T03:48:38.737715Z"
    }
   },
   "outputs": [],
   "source": [
    "data.loc[data['Fuel_Type']=='Electric','Fuel_Type'] = 'Petrol'"
   ]
  },
  {
   "cell_type": "code",
   "execution_count": 98,
   "metadata": {
    "ExecuteTime": {
     "end_time": "2021-03-09T03:48:39.538292Z",
     "start_time": "2021-03-09T03:48:39.525226Z"
    }
   },
   "outputs": [
    {
     "data": {
      "text/plain": [
       "array(['Petrol', 'Petrol + CNG', 'Diesel', nan, 'Petrol + LPG'],\n",
       "      dtype=object)"
      ]
     },
     "execution_count": 98,
     "metadata": {},
     "output_type": "execute_result"
    }
   ],
   "source": [
    "data['Fuel_Type'].unique()"
   ]
  },
  {
   "cell_type": "code",
   "execution_count": 99,
   "metadata": {},
   "outputs": [],
   "source": [
    "# data.loc[data['Fuel_Type']=='Petrol + LPG']"
   ]
  },
  {
   "cell_type": "code",
   "execution_count": 100,
   "metadata": {},
   "outputs": [
    {
     "data": {
      "text/plain": [
       "array(['First Owner', 'Second Owner', nan, 'Third Owner', 'Fourth Owner',\n",
       "       'Sixth Owner'], dtype=object)"
      ]
     },
     "execution_count": 100,
     "metadata": {},
     "output_type": "execute_result"
    }
   ],
   "source": [
    "data['Owner_Type'].unique()"
   ]
  },
  {
   "cell_type": "code",
   "execution_count": 101,
   "metadata": {},
   "outputs": [
    {
     "data": {
      "text/plain": [
       "array(['MANUAL', 'AUTOMATIC', nan], dtype=object)"
      ]
     },
     "execution_count": 101,
     "metadata": {},
     "output_type": "execute_result"
    }
   ],
   "source": [
    "data['Transmission_Type'].unique()"
   ]
  },
  {
   "cell_type": "code",
   "execution_count": 102,
   "metadata": {
    "ExecuteTime": {
     "end_time": "2021-03-09T03:48:41.110221Z",
     "start_time": "2021-03-09T03:48:41.102188Z"
    }
   },
   "outputs": [],
   "source": [
    "# fig = plt.figure(figsize=(25, 15))\n",
    "# cols = 5\n",
    "# rows = np.ceil(float(data.shape[1]) / cols)\n",
    "\n",
    "# for i, column in enumerate(data.columns):\n",
    "#     ax = fig.add_subplot(rows, cols, i + 1)\n",
    "#     ax.set_title(column)\n",
    "#     if data.dtypes[column] == np.object:\n",
    "#         data[column].value_counts().plot(kind=\"bar\", axes=ax)\n",
    "#     else:\n",
    "#         data[column].hist(axes=ax)\n",
    "#         plt.xticks(rotation=\"vertical\")\n",
    "# plt.subplots_adjust(hspace=0.7, wspace=0.2)"
   ]
  },
  {
   "cell_type": "code",
   "execution_count": 103,
   "metadata": {
    "ExecuteTime": {
     "end_time": "2021-03-09T03:50:25.511737Z",
     "start_time": "2021-03-09T03:50:25.499496Z"
    }
   },
   "outputs": [
    {
     "name": "stdout",
     "output_type": "stream",
     "text": [
      "<class 'pandas.core.frame.DataFrame'>\n",
      "RangeIndex: 2378 entries, 0 to 2377\n",
      "Data columns (total 9 columns):\n",
      " #   Column             Non-Null Count  Dtype  \n",
      "---  ------             --------------  -----  \n",
      " 0   Car_model          2378 non-null   object \n",
      " 1   Year               2357 non-null   object \n",
      " 2   Kilometers         2357 non-null   float64\n",
      " 3   Fuel_Type          2357 non-null   object \n",
      " 4   Owner_Type         2357 non-null   object \n",
      " 5   Insurance_Type     2359 non-null   object \n",
      " 6   RTO                2378 non-null   object \n",
      " 7   Transmission_Type  2225 non-null   object \n",
      " 8   Price              2378 non-null   int64  \n",
      "dtypes: float64(1), int64(1), object(7)\n",
      "memory usage: 167.3+ KB\n"
     ]
    }
   ],
   "source": [
    "data.info()"
   ]
  },
  {
   "cell_type": "code",
   "execution_count": 104,
   "metadata": {},
   "outputs": [
    {
     "data": {
      "text/plain": [
       "Index(['Car_model', 'Year', 'Kilometers', 'Fuel_Type', 'Owner_Type',\n",
       "       'Insurance_Type', 'RTO', 'Transmission_Type', 'Price'],\n",
       "      dtype='object')"
      ]
     },
     "execution_count": 104,
     "metadata": {},
     "output_type": "execute_result"
    }
   ],
   "source": [
    "data.columns"
   ]
  },
  {
   "cell_type": "code",
   "execution_count": 105,
   "metadata": {
    "ExecuteTime": {
     "end_time": "2021-03-09T04:19:02.975601Z",
     "start_time": "2021-03-09T04:19:02.966505Z"
    }
   },
   "outputs": [],
   "source": [
    "# num_v = data[['Kilometers','Price']]\n",
    "# cat_v = data[['Car_model', 'Year', 'Fuel_Type', 'Owner_Type','Insurance_Type', 'RTO', 'Transmission_Type']]\n",
    "num_v = data.select_dtypes(['int64','float'])\n",
    "cat_v = data.select_dtypes(['O'])"
   ]
  },
  {
   "cell_type": "code",
   "execution_count": 106,
   "metadata": {
    "ExecuteTime": {
     "end_time": "2021-03-09T04:19:09.010822Z",
     "start_time": "2021-03-09T04:19:08.997107Z"
    }
   },
   "outputs": [],
   "source": [
    "imputer = KNNImputer(n_neighbors=2) \n",
    "num_v_1 = imputer.fit_transform(num_v) "
   ]
  },
  {
   "cell_type": "code",
   "execution_count": null,
   "metadata": {},
   "outputs": [],
   "source": []
  },
  {
   "cell_type": "code",
   "execution_count": 107,
   "metadata": {
    "ExecuteTime": {
     "end_time": "2021-03-09T04:19:17.058168Z",
     "start_time": "2021-03-09T04:19:17.054523Z"
    }
   },
   "outputs": [],
   "source": [
    "# from sklearn.preprocessing import StandardScaler, MinMaxScaler\n",
    "# scaler = StandardScaler()\n",
    "\n",
    "# num_v_1 = scaler.fit_transform(num_v_1)"
   ]
  },
  {
   "cell_type": "code",
   "execution_count": 108,
   "metadata": {
    "ExecuteTime": {
     "end_time": "2021-03-09T04:19:17.791319Z",
     "start_time": "2021-03-09T04:19:17.786866Z"
    }
   },
   "outputs": [],
   "source": [
    "numerical_df = pd.DataFrame(num_v_1,columns=list(num_v.columns))"
   ]
  },
  {
   "cell_type": "code",
   "execution_count": 109,
   "metadata": {},
   "outputs": [
    {
     "data": {
      "text/html": [
       "<div>\n",
       "<style scoped>\n",
       "    .dataframe tbody tr th:only-of-type {\n",
       "        vertical-align: middle;\n",
       "    }\n",
       "\n",
       "    .dataframe tbody tr th {\n",
       "        vertical-align: top;\n",
       "    }\n",
       "\n",
       "    .dataframe thead th {\n",
       "        text-align: right;\n",
       "    }\n",
       "</style>\n",
       "<table border=\"1\" class=\"dataframe\">\n",
       "  <thead>\n",
       "    <tr style=\"text-align: right;\">\n",
       "      <th></th>\n",
       "      <th>Kilometers</th>\n",
       "      <th>Price</th>\n",
       "    </tr>\n",
       "  </thead>\n",
       "  <tbody>\n",
       "    <tr>\n",
       "      <th>0</th>\n",
       "      <td>50007.0</td>\n",
       "      <td>114899.0</td>\n",
       "    </tr>\n",
       "    <tr>\n",
       "      <th>1</th>\n",
       "      <td>19577.0</td>\n",
       "      <td>368499.0</td>\n",
       "    </tr>\n",
       "    <tr>\n",
       "      <th>2</th>\n",
       "      <td>57650.0</td>\n",
       "      <td>196199.0</td>\n",
       "    </tr>\n",
       "    <tr>\n",
       "      <th>3</th>\n",
       "      <td>47447.0</td>\n",
       "      <td>156460.0</td>\n",
       "    </tr>\n",
       "    <tr>\n",
       "      <th>4</th>\n",
       "      <td>13337.0</td>\n",
       "      <td>293447.0</td>\n",
       "    </tr>\n",
       "    <tr>\n",
       "      <th>...</th>\n",
       "      <td>...</td>\n",
       "      <td>...</td>\n",
       "    </tr>\n",
       "    <tr>\n",
       "      <th>2373</th>\n",
       "      <td>4640.0</td>\n",
       "      <td>200000.0</td>\n",
       "    </tr>\n",
       "    <tr>\n",
       "      <th>2374</th>\n",
       "      <td>56245.0</td>\n",
       "      <td>415000.0</td>\n",
       "    </tr>\n",
       "    <tr>\n",
       "      <th>2375</th>\n",
       "      <td>43850.0</td>\n",
       "      <td>1850000.0</td>\n",
       "    </tr>\n",
       "    <tr>\n",
       "      <th>2376</th>\n",
       "      <td>83470.0</td>\n",
       "      <td>280000.0</td>\n",
       "    </tr>\n",
       "    <tr>\n",
       "      <th>2377</th>\n",
       "      <td>16640.0</td>\n",
       "      <td>131495.0</td>\n",
       "    </tr>\n",
       "  </tbody>\n",
       "</table>\n",
       "<p>2378 rows × 2 columns</p>\n",
       "</div>"
      ],
      "text/plain": [
       "      Kilometers      Price\n",
       "0        50007.0   114899.0\n",
       "1        19577.0   368499.0\n",
       "2        57650.0   196199.0\n",
       "3        47447.0   156460.0\n",
       "4        13337.0   293447.0\n",
       "...          ...        ...\n",
       "2373      4640.0   200000.0\n",
       "2374     56245.0   415000.0\n",
       "2375     43850.0  1850000.0\n",
       "2376     83470.0   280000.0\n",
       "2377     16640.0   131495.0\n",
       "\n",
       "[2378 rows x 2 columns]"
      ]
     },
     "execution_count": 109,
     "metadata": {},
     "output_type": "execute_result"
    }
   ],
   "source": [
    "numerical_df"
   ]
  },
  {
   "cell_type": "code",
   "execution_count": 110,
   "metadata": {
    "ExecuteTime": {
     "end_time": "2021-03-09T04:19:26.903518Z",
     "start_time": "2021-03-09T04:19:26.897384Z"
    }
   },
   "outputs": [],
   "source": [
    "# numerical_df['Price'] = np.log10(numerical_df['Price'])\n",
    "numerical_df['Kilometers'] = np.log10(numerical_df['Kilometers'])"
   ]
  },
  {
   "cell_type": "code",
   "execution_count": 111,
   "metadata": {
    "ExecuteTime": {
     "end_time": "2021-03-02T06:41:30.821593Z",
     "start_time": "2021-03-02T06:41:30.817430Z"
    }
   },
   "outputs": [],
   "source": [
    "# num_df = numerical_df.astype(int)"
   ]
  },
  {
   "cell_type": "code",
   "execution_count": 112,
   "metadata": {
    "ExecuteTime": {
     "end_time": "2021-03-02T06:41:31.301801Z",
     "start_time": "2021-03-02T06:41:31.284725Z"
    }
   },
   "outputs": [],
   "source": [
    "# scale_df = scaler.fit_transform(num_df)\n",
    "# num_df = pd.DataFrame(scale_df,columns=list(num_v.columns))"
   ]
  },
  {
   "cell_type": "code",
   "execution_count": 113,
   "metadata": {
    "ExecuteTime": {
     "end_time": "2021-03-09T04:20:22.618424Z",
     "start_time": "2021-03-09T04:20:22.610092Z"
    }
   },
   "outputs": [
    {
     "data": {
      "text/plain": [
       "0    2012\n",
       "dtype: object"
      ]
     },
     "execution_count": 113,
     "metadata": {},
     "output_type": "execute_result"
    }
   ],
   "source": [
    "cat_v['Year'].mode()"
   ]
  },
  {
   "cell_type": "code",
   "execution_count": 114,
   "metadata": {
    "ExecuteTime": {
     "end_time": "2021-03-09T04:20:23.378824Z",
     "start_time": "2021-03-09T04:20:23.371032Z"
    }
   },
   "outputs": [
    {
     "data": {
      "text/plain": [
       "0    Petrol\n",
       "dtype: object"
      ]
     },
     "execution_count": 114,
     "metadata": {},
     "output_type": "execute_result"
    }
   ],
   "source": [
    "cat_v['Fuel_Type'].mode()"
   ]
  },
  {
   "cell_type": "code",
   "execution_count": 115,
   "metadata": {
    "ExecuteTime": {
     "end_time": "2021-03-09T04:20:23.770997Z",
     "start_time": "2021-03-09T04:20:23.760782Z"
    }
   },
   "outputs": [
    {
     "data": {
      "text/plain": [
       "0    First Owner\n",
       "dtype: object"
      ]
     },
     "execution_count": 115,
     "metadata": {},
     "output_type": "execute_result"
    }
   ],
   "source": [
    "cat_v['Owner_Type'].mode()"
   ]
  },
  {
   "cell_type": "code",
   "execution_count": 116,
   "metadata": {
    "ExecuteTime": {
     "end_time": "2021-03-09T04:20:24.271641Z",
     "start_time": "2021-03-09T04:20:24.250923Z"
    }
   },
   "outputs": [
    {
     "data": {
      "text/plain": [
       "0    Comp\n",
       "dtype: object"
      ]
     },
     "execution_count": 116,
     "metadata": {},
     "output_type": "execute_result"
    }
   ],
   "source": [
    "cat_v['Insurance_Type'].mode()"
   ]
  },
  {
   "cell_type": "code",
   "execution_count": 117,
   "metadata": {
    "ExecuteTime": {
     "end_time": "2021-03-09T04:20:24.764774Z",
     "start_time": "2021-03-09T04:20:24.753311Z"
    }
   },
   "outputs": [
    {
     "data": {
      "text/plain": [
       "0    MANUAL\n",
       "dtype: object"
      ]
     },
     "execution_count": 117,
     "metadata": {},
     "output_type": "execute_result"
    }
   ],
   "source": [
    "cat_v['Transmission_Type'].mode()"
   ]
  },
  {
   "cell_type": "code",
   "execution_count": null,
   "metadata": {},
   "outputs": [],
   "source": []
  },
  {
   "cell_type": "code",
   "execution_count": 118,
   "metadata": {
    "ExecuteTime": {
     "end_time": "2021-03-09T04:21:15.854192Z",
     "start_time": "2021-03-09T04:21:15.845118Z"
    }
   },
   "outputs": [],
   "source": [
    "cat_v[\"Year\"].fillna('2012', inplace = True)  \n",
    "cat_v[\"Fuel_Type\"].fillna('Petrol', inplace = True)  \n",
    "cat_v[\"Owner_Type\"].fillna('Fifth Owner', inplace = True)  \n",
    "cat_v[\"Insurance_Type\"].fillna('Comp', inplace = True) \n",
    "cat_v[\"Transmission_Type\"].fillna('MANUAL', inplace = True) "
   ]
  },
  {
   "cell_type": "code",
   "execution_count": 119,
   "metadata": {
    "ExecuteTime": {
     "end_time": "2021-03-09T04:21:16.531824Z",
     "start_time": "2021-03-09T04:21:16.523652Z"
    }
   },
   "outputs": [
    {
     "data": {
      "text/plain": [
       "Car_model            0\n",
       "Year                 0\n",
       "Fuel_Type            0\n",
       "Owner_Type           0\n",
       "Insurance_Type       0\n",
       "RTO                  0\n",
       "Transmission_Type    0\n",
       "dtype: int64"
      ]
     },
     "execution_count": 119,
     "metadata": {},
     "output_type": "execute_result"
    }
   ],
   "source": [
    "cat_v.isna().sum()"
   ]
  },
  {
   "cell_type": "code",
   "execution_count": 120,
   "metadata": {},
   "outputs": [],
   "source": [
    "cat_v['Year'] = cat_v['Year'].astype('int64')\n",
    "cat_v['Years'] = cat_v['Year'].apply(lambda x:2021-x)\n",
    "cat_v.drop(['Car_model','Year'],axis=1,inplace=True)"
   ]
  },
  {
   "cell_type": "code",
   "execution_count": 121,
   "metadata": {},
   "outputs": [],
   "source": [
    "cat_v['RTO']=cat_v['RTO'].apply(lambda x:'Delhi'if x.startswith(\"DL\") else 'Other_State')"
   ]
  },
  {
   "cell_type": "code",
   "execution_count": 122,
   "metadata": {
    "ExecuteTime": {
     "end_time": "2021-03-09T04:21:17.458204Z",
     "start_time": "2021-03-09T04:21:17.430624Z"
    }
   },
   "outputs": [],
   "source": [
    "cat_v = pd.get_dummies(cat_v, drop_first=True)\n"
   ]
  },
  {
   "cell_type": "code",
   "execution_count": 123,
   "metadata": {},
   "outputs": [
    {
     "data": {
      "text/html": [
       "<div>\n",
       "<style scoped>\n",
       "    .dataframe tbody tr th:only-of-type {\n",
       "        vertical-align: middle;\n",
       "    }\n",
       "\n",
       "    .dataframe tbody tr th {\n",
       "        vertical-align: top;\n",
       "    }\n",
       "\n",
       "    .dataframe thead th {\n",
       "        text-align: right;\n",
       "    }\n",
       "</style>\n",
       "<table border=\"1\" class=\"dataframe\">\n",
       "  <thead>\n",
       "    <tr style=\"text-align: right;\">\n",
       "      <th></th>\n",
       "      <th>Years</th>\n",
       "      <th>Fuel_Type_Petrol</th>\n",
       "      <th>Fuel_Type_Petrol + CNG</th>\n",
       "      <th>Fuel_Type_Petrol + LPG</th>\n",
       "      <th>Owner_Type_First Owner</th>\n",
       "      <th>Owner_Type_Fourth Owner</th>\n",
       "      <th>Owner_Type_Second Owner</th>\n",
       "      <th>Owner_Type_Sixth Owner</th>\n",
       "      <th>Owner_Type_Third Owner</th>\n",
       "      <th>Insurance_Type_Comp</th>\n",
       "      <th>Insurance_Type_Comprehensive</th>\n",
       "      <th>Insurance_Type_Expired</th>\n",
       "      <th>Insurance_Type_Insurance Expired</th>\n",
       "      <th>Insurance_Type_Third_party</th>\n",
       "      <th>Insurance_Type_Zero Depreciation</th>\n",
       "      <th>Insurance_Type_Zero_Dep</th>\n",
       "      <th>RTO_Other_State</th>\n",
       "      <th>Transmission_Type_MANUAL</th>\n",
       "    </tr>\n",
       "  </thead>\n",
       "  <tbody>\n",
       "    <tr>\n",
       "      <th>0</th>\n",
       "      <td>7</td>\n",
       "      <td>1</td>\n",
       "      <td>0</td>\n",
       "      <td>0</td>\n",
       "      <td>1</td>\n",
       "      <td>0</td>\n",
       "      <td>0</td>\n",
       "      <td>0</td>\n",
       "      <td>0</td>\n",
       "      <td>1</td>\n",
       "      <td>0</td>\n",
       "      <td>0</td>\n",
       "      <td>0</td>\n",
       "      <td>0</td>\n",
       "      <td>0</td>\n",
       "      <td>0</td>\n",
       "      <td>0</td>\n",
       "      <td>1</td>\n",
       "    </tr>\n",
       "    <tr>\n",
       "      <th>1</th>\n",
       "      <td>5</td>\n",
       "      <td>1</td>\n",
       "      <td>0</td>\n",
       "      <td>0</td>\n",
       "      <td>1</td>\n",
       "      <td>0</td>\n",
       "      <td>0</td>\n",
       "      <td>0</td>\n",
       "      <td>0</td>\n",
       "      <td>0</td>\n",
       "      <td>0</td>\n",
       "      <td>0</td>\n",
       "      <td>0</td>\n",
       "      <td>0</td>\n",
       "      <td>0</td>\n",
       "      <td>1</td>\n",
       "      <td>0</td>\n",
       "      <td>0</td>\n",
       "    </tr>\n",
       "    <tr>\n",
       "      <th>2</th>\n",
       "      <td>10</td>\n",
       "      <td>0</td>\n",
       "      <td>1</td>\n",
       "      <td>0</td>\n",
       "      <td>0</td>\n",
       "      <td>0</td>\n",
       "      <td>1</td>\n",
       "      <td>0</td>\n",
       "      <td>0</td>\n",
       "      <td>0</td>\n",
       "      <td>0</td>\n",
       "      <td>0</td>\n",
       "      <td>0</td>\n",
       "      <td>1</td>\n",
       "      <td>0</td>\n",
       "      <td>0</td>\n",
       "      <td>0</td>\n",
       "      <td>1</td>\n",
       "    </tr>\n",
       "    <tr>\n",
       "      <th>3</th>\n",
       "      <td>11</td>\n",
       "      <td>0</td>\n",
       "      <td>1</td>\n",
       "      <td>0</td>\n",
       "      <td>1</td>\n",
       "      <td>0</td>\n",
       "      <td>0</td>\n",
       "      <td>0</td>\n",
       "      <td>0</td>\n",
       "      <td>1</td>\n",
       "      <td>0</td>\n",
       "      <td>0</td>\n",
       "      <td>0</td>\n",
       "      <td>0</td>\n",
       "      <td>0</td>\n",
       "      <td>0</td>\n",
       "      <td>0</td>\n",
       "      <td>1</td>\n",
       "    </tr>\n",
       "    <tr>\n",
       "      <th>4</th>\n",
       "      <td>5</td>\n",
       "      <td>1</td>\n",
       "      <td>0</td>\n",
       "      <td>0</td>\n",
       "      <td>1</td>\n",
       "      <td>0</td>\n",
       "      <td>0</td>\n",
       "      <td>0</td>\n",
       "      <td>0</td>\n",
       "      <td>0</td>\n",
       "      <td>0</td>\n",
       "      <td>1</td>\n",
       "      <td>0</td>\n",
       "      <td>0</td>\n",
       "      <td>0</td>\n",
       "      <td>0</td>\n",
       "      <td>0</td>\n",
       "      <td>1</td>\n",
       "    </tr>\n",
       "    <tr>\n",
       "      <th>...</th>\n",
       "      <td>...</td>\n",
       "      <td>...</td>\n",
       "      <td>...</td>\n",
       "      <td>...</td>\n",
       "      <td>...</td>\n",
       "      <td>...</td>\n",
       "      <td>...</td>\n",
       "      <td>...</td>\n",
       "      <td>...</td>\n",
       "      <td>...</td>\n",
       "      <td>...</td>\n",
       "      <td>...</td>\n",
       "      <td>...</td>\n",
       "      <td>...</td>\n",
       "      <td>...</td>\n",
       "      <td>...</td>\n",
       "      <td>...</td>\n",
       "      <td>...</td>\n",
       "    </tr>\n",
       "    <tr>\n",
       "      <th>2373</th>\n",
       "      <td>6</td>\n",
       "      <td>1</td>\n",
       "      <td>0</td>\n",
       "      <td>0</td>\n",
       "      <td>1</td>\n",
       "      <td>0</td>\n",
       "      <td>0</td>\n",
       "      <td>0</td>\n",
       "      <td>0</td>\n",
       "      <td>0</td>\n",
       "      <td>1</td>\n",
       "      <td>0</td>\n",
       "      <td>0</td>\n",
       "      <td>0</td>\n",
       "      <td>0</td>\n",
       "      <td>0</td>\n",
       "      <td>0</td>\n",
       "      <td>1</td>\n",
       "    </tr>\n",
       "    <tr>\n",
       "      <th>2374</th>\n",
       "      <td>11</td>\n",
       "      <td>1</td>\n",
       "      <td>0</td>\n",
       "      <td>0</td>\n",
       "      <td>0</td>\n",
       "      <td>0</td>\n",
       "      <td>1</td>\n",
       "      <td>0</td>\n",
       "      <td>0</td>\n",
       "      <td>0</td>\n",
       "      <td>0</td>\n",
       "      <td>0</td>\n",
       "      <td>0</td>\n",
       "      <td>0</td>\n",
       "      <td>0</td>\n",
       "      <td>1</td>\n",
       "      <td>0</td>\n",
       "      <td>1</td>\n",
       "    </tr>\n",
       "    <tr>\n",
       "      <th>2375</th>\n",
       "      <td>5</td>\n",
       "      <td>0</td>\n",
       "      <td>0</td>\n",
       "      <td>0</td>\n",
       "      <td>1</td>\n",
       "      <td>0</td>\n",
       "      <td>0</td>\n",
       "      <td>0</td>\n",
       "      <td>0</td>\n",
       "      <td>0</td>\n",
       "      <td>0</td>\n",
       "      <td>0</td>\n",
       "      <td>0</td>\n",
       "      <td>0</td>\n",
       "      <td>1</td>\n",
       "      <td>0</td>\n",
       "      <td>0</td>\n",
       "      <td>1</td>\n",
       "    </tr>\n",
       "    <tr>\n",
       "      <th>2376</th>\n",
       "      <td>10</td>\n",
       "      <td>1</td>\n",
       "      <td>0</td>\n",
       "      <td>0</td>\n",
       "      <td>1</td>\n",
       "      <td>0</td>\n",
       "      <td>0</td>\n",
       "      <td>0</td>\n",
       "      <td>0</td>\n",
       "      <td>1</td>\n",
       "      <td>0</td>\n",
       "      <td>0</td>\n",
       "      <td>0</td>\n",
       "      <td>0</td>\n",
       "      <td>0</td>\n",
       "      <td>0</td>\n",
       "      <td>0</td>\n",
       "      <td>1</td>\n",
       "    </tr>\n",
       "    <tr>\n",
       "      <th>2377</th>\n",
       "      <td>2</td>\n",
       "      <td>1</td>\n",
       "      <td>0</td>\n",
       "      <td>0</td>\n",
       "      <td>1</td>\n",
       "      <td>0</td>\n",
       "      <td>0</td>\n",
       "      <td>0</td>\n",
       "      <td>0</td>\n",
       "      <td>0</td>\n",
       "      <td>0</td>\n",
       "      <td>0</td>\n",
       "      <td>0</td>\n",
       "      <td>0</td>\n",
       "      <td>0</td>\n",
       "      <td>0</td>\n",
       "      <td>0</td>\n",
       "      <td>1</td>\n",
       "    </tr>\n",
       "  </tbody>\n",
       "</table>\n",
       "<p>2378 rows × 18 columns</p>\n",
       "</div>"
      ],
      "text/plain": [
       "      Years  Fuel_Type_Petrol  Fuel_Type_Petrol + CNG  Fuel_Type_Petrol + LPG  \\\n",
       "0         7                 1                       0                       0   \n",
       "1         5                 1                       0                       0   \n",
       "2        10                 0                       1                       0   \n",
       "3        11                 0                       1                       0   \n",
       "4         5                 1                       0                       0   \n",
       "...     ...               ...                     ...                     ...   \n",
       "2373      6                 1                       0                       0   \n",
       "2374     11                 1                       0                       0   \n",
       "2375      5                 0                       0                       0   \n",
       "2376     10                 1                       0                       0   \n",
       "2377      2                 1                       0                       0   \n",
       "\n",
       "      Owner_Type_First Owner  Owner_Type_Fourth Owner  \\\n",
       "0                          1                        0   \n",
       "1                          1                        0   \n",
       "2                          0                        0   \n",
       "3                          1                        0   \n",
       "4                          1                        0   \n",
       "...                      ...                      ...   \n",
       "2373                       1                        0   \n",
       "2374                       0                        0   \n",
       "2375                       1                        0   \n",
       "2376                       1                        0   \n",
       "2377                       1                        0   \n",
       "\n",
       "      Owner_Type_Second Owner  Owner_Type_Sixth Owner  Owner_Type_Third Owner  \\\n",
       "0                           0                       0                       0   \n",
       "1                           0                       0                       0   \n",
       "2                           1                       0                       0   \n",
       "3                           0                       0                       0   \n",
       "4                           0                       0                       0   \n",
       "...                       ...                     ...                     ...   \n",
       "2373                        0                       0                       0   \n",
       "2374                        1                       0                       0   \n",
       "2375                        0                       0                       0   \n",
       "2376                        0                       0                       0   \n",
       "2377                        0                       0                       0   \n",
       "\n",
       "      Insurance_Type_Comp  Insurance_Type_Comprehensive  \\\n",
       "0                       1                             0   \n",
       "1                       0                             0   \n",
       "2                       0                             0   \n",
       "3                       1                             0   \n",
       "4                       0                             0   \n",
       "...                   ...                           ...   \n",
       "2373                    0                             1   \n",
       "2374                    0                             0   \n",
       "2375                    0                             0   \n",
       "2376                    1                             0   \n",
       "2377                    0                             0   \n",
       "\n",
       "      Insurance_Type_Expired  Insurance_Type_Insurance Expired  \\\n",
       "0                          0                                 0   \n",
       "1                          0                                 0   \n",
       "2                          0                                 0   \n",
       "3                          0                                 0   \n",
       "4                          1                                 0   \n",
       "...                      ...                               ...   \n",
       "2373                       0                                 0   \n",
       "2374                       0                                 0   \n",
       "2375                       0                                 0   \n",
       "2376                       0                                 0   \n",
       "2377                       0                                 0   \n",
       "\n",
       "      Insurance_Type_Third_party  Insurance_Type_Zero Depreciation  \\\n",
       "0                              0                                 0   \n",
       "1                              0                                 0   \n",
       "2                              1                                 0   \n",
       "3                              0                                 0   \n",
       "4                              0                                 0   \n",
       "...                          ...                               ...   \n",
       "2373                           0                                 0   \n",
       "2374                           0                                 0   \n",
       "2375                           0                                 1   \n",
       "2376                           0                                 0   \n",
       "2377                           0                                 0   \n",
       "\n",
       "      Insurance_Type_Zero_Dep  RTO_Other_State  Transmission_Type_MANUAL  \n",
       "0                           0                0                         1  \n",
       "1                           1                0                         0  \n",
       "2                           0                0                         1  \n",
       "3                           0                0                         1  \n",
       "4                           0                0                         1  \n",
       "...                       ...              ...                       ...  \n",
       "2373                        0                0                         1  \n",
       "2374                        1                0                         1  \n",
       "2375                        0                0                         1  \n",
       "2376                        0                0                         1  \n",
       "2377                        0                0                         1  \n",
       "\n",
       "[2378 rows x 18 columns]"
      ]
     },
     "execution_count": 123,
     "metadata": {},
     "output_type": "execute_result"
    }
   ],
   "source": [
    "cat_v"
   ]
  },
  {
   "cell_type": "code",
   "execution_count": 124,
   "metadata": {},
   "outputs": [],
   "source": [
    "# bn = data['Brand_name'].unique()"
   ]
  },
  {
   "cell_type": "code",
   "execution_count": 125,
   "metadata": {},
   "outputs": [],
   "source": [
    "# bn"
   ]
  },
  {
   "cell_type": "code",
   "execution_count": 126,
   "metadata": {},
   "outputs": [
    {
     "data": {
      "text/plain": [
       "Index(['Years', 'Fuel_Type_Petrol', 'Fuel_Type_Petrol + CNG',\n",
       "       'Fuel_Type_Petrol + LPG', 'Owner_Type_First Owner',\n",
       "       'Owner_Type_Fourth Owner', 'Owner_Type_Second Owner',\n",
       "       'Owner_Type_Sixth Owner', 'Owner_Type_Third Owner',\n",
       "       'Insurance_Type_Comp', 'Insurance_Type_Comprehensive',\n",
       "       'Insurance_Type_Expired', 'Insurance_Type_Insurance Expired',\n",
       "       'Insurance_Type_Third_party', 'Insurance_Type_Zero Depreciation',\n",
       "       'Insurance_Type_Zero_Dep', 'RTO_Other_State',\n",
       "       'Transmission_Type_MANUAL'],\n",
       "      dtype='object')"
      ]
     },
     "execution_count": 126,
     "metadata": {},
     "output_type": "execute_result"
    }
   ],
   "source": [
    "cat_v.columns"
   ]
  },
  {
   "cell_type": "code",
   "execution_count": 127,
   "metadata": {},
   "outputs": [],
   "source": [
    "# cat_v[['Brand_name_BMW', 'Brand_name_Chevrolet', 'Brand_name_Datsun',\n",
    "#        'Brand_name_Fiat', 'Brand_name_Ford', 'Brand_name_Honda',\n",
    "#        'Brand_name_Hyundai', 'Brand_name_Jeep', 'Brand_name_KIA',\n",
    "#        'Brand_name_MG', 'Brand_name_Mahindra', 'Brand_name_Maruti',\n",
    "#        'Brand_name_Mercedes', 'Brand_name_Nissan', 'Brand_name_Renault',\n",
    "#        'Brand_name_Skoda', 'Brand_name_Ssangyong', 'Brand_name_Tata',\n",
    "#        'Brand_name_Toyota', 'Brand_name_Volkswagen', 'Brand_name_Volvo']]"
   ]
  },
  {
   "cell_type": "code",
   "execution_count": 128,
   "metadata": {
    "ExecuteTime": {
     "end_time": "2021-03-09T04:21:28.204727Z",
     "start_time": "2021-03-09T04:21:28.194851Z"
    }
   },
   "outputs": [],
   "source": [
    "d = [cat_v,numerical_df]\n",
    "final_df = pd.concat(d,join='outer',axis=1)"
   ]
  },
  {
   "cell_type": "code",
   "execution_count": 129,
   "metadata": {
    "ExecuteTime": {
     "end_time": "2021-03-09T04:14:16.495954Z",
     "start_time": "2021-03-09T04:14:16.472207Z"
    }
   },
   "outputs": [
    {
     "data": {
      "text/html": [
       "<div>\n",
       "<style scoped>\n",
       "    .dataframe tbody tr th:only-of-type {\n",
       "        vertical-align: middle;\n",
       "    }\n",
       "\n",
       "    .dataframe tbody tr th {\n",
       "        vertical-align: top;\n",
       "    }\n",
       "\n",
       "    .dataframe thead th {\n",
       "        text-align: right;\n",
       "    }\n",
       "</style>\n",
       "<table border=\"1\" class=\"dataframe\">\n",
       "  <thead>\n",
       "    <tr style=\"text-align: right;\">\n",
       "      <th></th>\n",
       "      <th>Years</th>\n",
       "      <th>Fuel_Type_Petrol</th>\n",
       "      <th>Fuel_Type_Petrol + CNG</th>\n",
       "      <th>Fuel_Type_Petrol + LPG</th>\n",
       "      <th>Owner_Type_First Owner</th>\n",
       "      <th>Owner_Type_Fourth Owner</th>\n",
       "      <th>Owner_Type_Second Owner</th>\n",
       "      <th>Owner_Type_Sixth Owner</th>\n",
       "      <th>Owner_Type_Third Owner</th>\n",
       "      <th>Insurance_Type_Comp</th>\n",
       "      <th>Insurance_Type_Comprehensive</th>\n",
       "      <th>Insurance_Type_Expired</th>\n",
       "      <th>Insurance_Type_Insurance Expired</th>\n",
       "      <th>Insurance_Type_Third_party</th>\n",
       "      <th>Insurance_Type_Zero Depreciation</th>\n",
       "      <th>Insurance_Type_Zero_Dep</th>\n",
       "      <th>RTO_Other_State</th>\n",
       "      <th>Transmission_Type_MANUAL</th>\n",
       "      <th>Kilometers</th>\n",
       "      <th>Price</th>\n",
       "    </tr>\n",
       "  </thead>\n",
       "  <tbody>\n",
       "    <tr>\n",
       "      <th>0</th>\n",
       "      <td>7</td>\n",
       "      <td>1</td>\n",
       "      <td>0</td>\n",
       "      <td>0</td>\n",
       "      <td>1</td>\n",
       "      <td>0</td>\n",
       "      <td>0</td>\n",
       "      <td>0</td>\n",
       "      <td>0</td>\n",
       "      <td>1</td>\n",
       "      <td>0</td>\n",
       "      <td>0</td>\n",
       "      <td>0</td>\n",
       "      <td>0</td>\n",
       "      <td>0</td>\n",
       "      <td>0</td>\n",
       "      <td>0</td>\n",
       "      <td>1</td>\n",
       "      <td>4.699031</td>\n",
       "      <td>114899.0</td>\n",
       "    </tr>\n",
       "    <tr>\n",
       "      <th>1</th>\n",
       "      <td>5</td>\n",
       "      <td>1</td>\n",
       "      <td>0</td>\n",
       "      <td>0</td>\n",
       "      <td>1</td>\n",
       "      <td>0</td>\n",
       "      <td>0</td>\n",
       "      <td>0</td>\n",
       "      <td>0</td>\n",
       "      <td>0</td>\n",
       "      <td>0</td>\n",
       "      <td>0</td>\n",
       "      <td>0</td>\n",
       "      <td>0</td>\n",
       "      <td>0</td>\n",
       "      <td>1</td>\n",
       "      <td>0</td>\n",
       "      <td>0</td>\n",
       "      <td>4.291746</td>\n",
       "      <td>368499.0</td>\n",
       "    </tr>\n",
       "    <tr>\n",
       "      <th>2</th>\n",
       "      <td>10</td>\n",
       "      <td>0</td>\n",
       "      <td>1</td>\n",
       "      <td>0</td>\n",
       "      <td>0</td>\n",
       "      <td>0</td>\n",
       "      <td>1</td>\n",
       "      <td>0</td>\n",
       "      <td>0</td>\n",
       "      <td>0</td>\n",
       "      <td>0</td>\n",
       "      <td>0</td>\n",
       "      <td>0</td>\n",
       "      <td>1</td>\n",
       "      <td>0</td>\n",
       "      <td>0</td>\n",
       "      <td>0</td>\n",
       "      <td>1</td>\n",
       "      <td>4.760799</td>\n",
       "      <td>196199.0</td>\n",
       "    </tr>\n",
       "    <tr>\n",
       "      <th>3</th>\n",
       "      <td>11</td>\n",
       "      <td>0</td>\n",
       "      <td>1</td>\n",
       "      <td>0</td>\n",
       "      <td>1</td>\n",
       "      <td>0</td>\n",
       "      <td>0</td>\n",
       "      <td>0</td>\n",
       "      <td>0</td>\n",
       "      <td>1</td>\n",
       "      <td>0</td>\n",
       "      <td>0</td>\n",
       "      <td>0</td>\n",
       "      <td>0</td>\n",
       "      <td>0</td>\n",
       "      <td>0</td>\n",
       "      <td>0</td>\n",
       "      <td>1</td>\n",
       "      <td>4.676209</td>\n",
       "      <td>156460.0</td>\n",
       "    </tr>\n",
       "    <tr>\n",
       "      <th>4</th>\n",
       "      <td>5</td>\n",
       "      <td>1</td>\n",
       "      <td>0</td>\n",
       "      <td>0</td>\n",
       "      <td>1</td>\n",
       "      <td>0</td>\n",
       "      <td>0</td>\n",
       "      <td>0</td>\n",
       "      <td>0</td>\n",
       "      <td>0</td>\n",
       "      <td>0</td>\n",
       "      <td>1</td>\n",
       "      <td>0</td>\n",
       "      <td>0</td>\n",
       "      <td>0</td>\n",
       "      <td>0</td>\n",
       "      <td>0</td>\n",
       "      <td>1</td>\n",
       "      <td>4.125058</td>\n",
       "      <td>293447.0</td>\n",
       "    </tr>\n",
       "  </tbody>\n",
       "</table>\n",
       "</div>"
      ],
      "text/plain": [
       "   Years  Fuel_Type_Petrol  Fuel_Type_Petrol + CNG  Fuel_Type_Petrol + LPG  \\\n",
       "0      7                 1                       0                       0   \n",
       "1      5                 1                       0                       0   \n",
       "2     10                 0                       1                       0   \n",
       "3     11                 0                       1                       0   \n",
       "4      5                 1                       0                       0   \n",
       "\n",
       "   Owner_Type_First Owner  Owner_Type_Fourth Owner  Owner_Type_Second Owner  \\\n",
       "0                       1                        0                        0   \n",
       "1                       1                        0                        0   \n",
       "2                       0                        0                        1   \n",
       "3                       1                        0                        0   \n",
       "4                       1                        0                        0   \n",
       "\n",
       "   Owner_Type_Sixth Owner  Owner_Type_Third Owner  Insurance_Type_Comp  \\\n",
       "0                       0                       0                    1   \n",
       "1                       0                       0                    0   \n",
       "2                       0                       0                    0   \n",
       "3                       0                       0                    1   \n",
       "4                       0                       0                    0   \n",
       "\n",
       "   Insurance_Type_Comprehensive  Insurance_Type_Expired  \\\n",
       "0                             0                       0   \n",
       "1                             0                       0   \n",
       "2                             0                       0   \n",
       "3                             0                       0   \n",
       "4                             0                       1   \n",
       "\n",
       "   Insurance_Type_Insurance Expired  Insurance_Type_Third_party  \\\n",
       "0                                 0                           0   \n",
       "1                                 0                           0   \n",
       "2                                 0                           1   \n",
       "3                                 0                           0   \n",
       "4                                 0                           0   \n",
       "\n",
       "   Insurance_Type_Zero Depreciation  Insurance_Type_Zero_Dep  RTO_Other_State  \\\n",
       "0                                 0                        0                0   \n",
       "1                                 0                        1                0   \n",
       "2                                 0                        0                0   \n",
       "3                                 0                        0                0   \n",
       "4                                 0                        0                0   \n",
       "\n",
       "   Transmission_Type_MANUAL  Kilometers     Price  \n",
       "0                         1    4.699031  114899.0  \n",
       "1                         0    4.291746  368499.0  \n",
       "2                         1    4.760799  196199.0  \n",
       "3                         1    4.676209  156460.0  \n",
       "4                         1    4.125058  293447.0  "
      ]
     },
     "execution_count": 129,
     "metadata": {},
     "output_type": "execute_result"
    }
   ],
   "source": [
    "final_df.head(5)"
   ]
  },
  {
   "cell_type": "code",
   "execution_count": 130,
   "metadata": {},
   "outputs": [
    {
     "data": {
      "text/plain": [
       "Index(['Years', 'Fuel_Type_Petrol', 'Fuel_Type_Petrol + CNG',\n",
       "       'Fuel_Type_Petrol + LPG', 'Owner_Type_First Owner',\n",
       "       'Owner_Type_Fourth Owner', 'Owner_Type_Second Owner',\n",
       "       'Owner_Type_Sixth Owner', 'Owner_Type_Third Owner',\n",
       "       'Insurance_Type_Comp', 'Insurance_Type_Comprehensive',\n",
       "       'Insurance_Type_Expired', 'Insurance_Type_Insurance Expired',\n",
       "       'Insurance_Type_Third_party', 'Insurance_Type_Zero Depreciation',\n",
       "       'Insurance_Type_Zero_Dep', 'RTO_Other_State',\n",
       "       'Transmission_Type_MANUAL', 'Kilometers', 'Price'],\n",
       "      dtype='object')"
      ]
     },
     "execution_count": 130,
     "metadata": {},
     "output_type": "execute_result"
    }
   ],
   "source": [
    "final_df.columns"
   ]
  },
  {
   "cell_type": "code",
   "execution_count": 131,
   "metadata": {},
   "outputs": [],
   "source": [
    "final_df.columns = [c.replace('+', '') for c in final_df.columns]"
   ]
  },
  {
   "cell_type": "code",
   "execution_count": 132,
   "metadata": {},
   "outputs": [],
   "source": [
    "final_df.columns = [c.replace('  ', ' ') for c in final_df.columns]"
   ]
  },
  {
   "cell_type": "code",
   "execution_count": 133,
   "metadata": {},
   "outputs": [
    {
     "data": {
      "text/plain": [
       "20"
      ]
     },
     "execution_count": 133,
     "metadata": {},
     "output_type": "execute_result"
    }
   ],
   "source": [
    "len(final_df.columns)"
   ]
  },
  {
   "cell_type": "code",
   "execution_count": 134,
   "metadata": {},
   "outputs": [],
   "source": [
    "final_df.columns = [c.replace(' ', '_') for c in final_df.columns]"
   ]
  },
  {
   "cell_type": "code",
   "execution_count": 135,
   "metadata": {},
   "outputs": [
    {
     "data": {
      "text/plain": [
       "Index(['Years', 'Fuel_Type_Petrol', 'Fuel_Type_Petrol_CNG',\n",
       "       'Fuel_Type_Petrol_LPG', 'Owner_Type_First_Owner',\n",
       "       'Owner_Type_Fourth_Owner', 'Owner_Type_Second_Owner',\n",
       "       'Owner_Type_Sixth_Owner', 'Owner_Type_Third_Owner',\n",
       "       'Insurance_Type_Comp', 'Insurance_Type_Comprehensive',\n",
       "       'Insurance_Type_Expired', 'Insurance_Type_Insurance_Expired',\n",
       "       'Insurance_Type_Third_party', 'Insurance_Type_Zero_Depreciation',\n",
       "       'Insurance_Type_Zero_Dep', 'RTO_Other_State',\n",
       "       'Transmission_Type_MANUAL', 'Kilometers', 'Price'],\n",
       "      dtype='object')"
      ]
     },
     "execution_count": 135,
     "metadata": {},
     "output_type": "execute_result"
    }
   ],
   "source": [
    "final_df.columns"
   ]
  },
  {
   "cell_type": "code",
   "execution_count": 136,
   "metadata": {},
   "outputs": [],
   "source": [
    "# import seaborn as sns\n",
    "# plt.figure(figsize=(10,10))\n",
    "# sns.heatmap(final_df.corr(),cmap='viridis',annot=True, square=True)"
   ]
  },
  {
   "cell_type": "code",
   "execution_count": 137,
   "metadata": {
    "ExecuteTime": {
     "end_time": "2021-03-09T06:27:45.590294Z",
     "start_time": "2021-03-09T06:27:04.844937Z"
    }
   },
   "outputs": [],
   "source": [
    "X = final_df.drop(['Price'],1)\n",
    "y = final_df['Price']\n",
    "\n",
    "# model_features_importance=ExtraTreesRegressor()\n",
    "# model_features_importance.fit(X,y)\n",
    "# print(model_features_importance.feature_importances_)\n",
    "# ranked_features=pd.Series(model_features_importance.feature_importances_,index=X.columns)\n",
    "# ranked_features.nlargest(20).plot(kind='barh')"
   ]
  },
  {
   "cell_type": "code",
   "execution_count": 138,
   "metadata": {
    "ExecuteTime": {
     "end_time": "2021-03-09T06:45:01.593488Z",
     "start_time": "2021-03-09T06:45:01.586389Z"
    }
   },
   "outputs": [],
   "source": [
    "# selected_f = ranked_features.nlargest(55).index\n",
    "# X1 = final_df[selected_f]"
   ]
  },
  {
   "cell_type": "code",
   "execution_count": 139,
   "metadata": {
    "ExecuteTime": {
     "end_time": "2021-03-09T06:45:01.815248Z",
     "start_time": "2021-03-09T06:45:01.806374Z"
    },
    "scrolled": true
   },
   "outputs": [],
   "source": [
    "# X1"
   ]
  },
  {
   "cell_type": "code",
   "execution_count": 140,
   "metadata": {
    "ExecuteTime": {
     "end_time": "2021-03-09T06:45:02.037092Z",
     "start_time": "2021-03-09T06:45:02.024468Z"
    }
   },
   "outputs": [],
   "source": [
    "X_train, X_test, y_train, y_test = train_test_split(X, y, test_size=0.3, random_state=43)"
   ]
  },
  {
   "cell_type": "code",
   "execution_count": 141,
   "metadata": {
    "ExecuteTime": {
     "end_time": "2021-03-09T06:45:48.651840Z",
     "start_time": "2021-03-09T06:45:48.625193Z"
    }
   },
   "outputs": [
    {
     "name": "stdout",
     "output_type": "stream",
     "text": [
      "RMSE: 193858.21516541246\n"
     ]
    }
   ],
   "source": [
    "# selected_f = ranked_features.nlargest(49).index\n",
    "# X1 = final_df[selected_f]\n",
    "# X_train, X_test, y_train, y_test = train_test_split(X1, y, test_size=0.3, random_state=43)\n",
    "model = LinearRegression()\n",
    "model.fit(X_train, y_train)\n",
    "ypred = model.predict(X_test)\n",
    "from sklearn.metrics import mean_squared_error\n",
    "rmse = mean_squared_error(ypred, y_test, squared=False)\n",
    "# rmse = np.sqrt(mse)\n",
    "print('RMSE:',rmse)"
   ]
  },
  {
   "cell_type": "code",
   "execution_count": 142,
   "metadata": {
    "ExecuteTime": {
     "end_time": "2021-03-09T06:45:37.168540Z",
     "start_time": "2021-03-09T06:45:37.165312Z"
    }
   },
   "outputs": [],
   "source": [
    "# from pycaret.regression import *\n",
    "# exp1 = setup(final_df, target = 'Price')"
   ]
  },
  {
   "cell_type": "code",
   "execution_count": 143,
   "metadata": {
    "ExecuteTime": {
     "end_time": "2021-03-09T06:43:12.794819Z",
     "start_time": "2021-03-09T06:43:12.786972Z"
    }
   },
   "outputs": [],
   "source": [
    "# compare_models()"
   ]
  },
  {
   "cell_type": "code",
   "execution_count": 144,
   "metadata": {
    "ExecuteTime": {
     "end_time": "2021-03-09T06:46:53.616601Z",
     "start_time": "2021-03-09T06:46:53.610268Z"
    }
   },
   "outputs": [],
   "source": [
    "# save the model to disk\n",
    "import pickle\n",
    "filename = 'finalized_model.pkl'\n",
    "pickle.dump(model, open(filename, 'wb'))\n",
    "\n",
    "# load the model from disk\n",
    "# loaded_model = pickle.load(open(filename, 'rb'))\n",
    "# result = loaded_model.score(X_test, Y_test)\n",
    "# print(result)"
   ]
  },
  {
   "cell_type": "code",
   "execution_count": 145,
   "metadata": {},
   "outputs": [],
   "source": [
    "# pip install -U scikit-learn\n"
   ]
  },
  {
   "cell_type": "code",
   "execution_count": 146,
   "metadata": {},
   "outputs": [
    {
     "data": {
      "text/plain": [
       "'0.24.1'"
      ]
     },
     "execution_count": 146,
     "metadata": {},
     "output_type": "execute_result"
    }
   ],
   "source": [
    "import sklearn\n",
    "sklearn.__version__ "
   ]
  },
  {
   "cell_type": "code",
   "execution_count": 147,
   "metadata": {},
   "outputs": [
    {
     "data": {
      "text/plain": [
       "2100000.0"
      ]
     },
     "execution_count": 147,
     "metadata": {},
     "output_type": "execute_result"
    }
   ],
   "source": [
    "max(y)"
   ]
  },
  {
   "cell_type": "code",
   "execution_count": 148,
   "metadata": {},
   "outputs": [
    {
     "data": {
      "text/plain": [
       "23000.0"
      ]
     },
     "execution_count": 148,
     "metadata": {},
     "output_type": "execute_result"
    }
   ],
   "source": [
    "min(y)"
   ]
  },
  {
   "cell_type": "code",
   "execution_count": 149,
   "metadata": {},
   "outputs": [
    {
     "data": {
      "text/plain": [
       "array([306801.34942031, 382825.35275788, 320194.76864009, 287223.95791892,\n",
       "       340666.64719064, 326222.01621909, 348910.61034152, 372592.36600475,\n",
       "       364485.05920689, 405846.45712995, 354885.83529735, 365522.83874366,\n",
       "       286428.60735833, 330718.01813982, 310799.84541101, 324962.54714594,\n",
       "       332271.4210181 , 325978.91161554, 309337.19701436, 356732.30233546,\n",
       "       378309.78199678, 347551.63483846, 356267.97907923, 331942.0203911 ,\n",
       "       376442.09341654, 329062.95843155, 328807.74963395, 315988.79236462,\n",
       "       306004.57479341, 399160.80990759, 349868.71986782, 314344.28140232,\n",
       "       358371.25493117, 292519.57691055, 356943.98363882, 357480.0560746 ,\n",
       "       344091.7543542 , 317612.67709937, 351115.57964443, 322763.48677396,\n",
       "       307271.14847582, 393997.28429597, 360979.1293485 , 335299.96699964,\n",
       "       322870.60458332, 342679.83574029, 296212.52908783, 348145.3095046 ,\n",
       "       387973.33166997, 342807.52075252, 304878.3602642 , 332495.64812253,\n",
       "       284408.71316253, 324733.61567035, 330399.0785063 , 367767.02438192,\n",
       "       305493.54144805, 318219.37478126, 377416.89551972, 286054.40158809,\n",
       "       374565.50104964, 382637.1037576 , 336647.84537078, 340590.37802773,\n",
       "       315094.67276405, 327958.53512432, 325142.86794439, 316274.39037552,\n",
       "       318043.81397452, 328054.4124193 , 394002.08543107, 309854.49045217,\n",
       "       317566.31455952, 333339.62387768, 360961.67810047, 301274.86371534,\n",
       "       380019.98373968, 361441.58392899, 363954.62190403, 403145.09197372,\n",
       "       343921.32845706, 330339.52658082, 309885.15049075, 370536.3752103 ,\n",
       "       311044.19192989, 363749.06322774, 343832.66735607, 353612.48529729,\n",
       "       364285.33551975, 316087.02194473, 387082.04195069, 341702.91769067,\n",
       "       382437.57530072, 338341.27728672, 301930.15047273, 330245.96105303,\n",
       "       342186.8491332 , 316810.60044565, 385866.6400753 , 373667.3847906 ,\n",
       "       399578.6360238 , 351382.17577322, 335676.65475442, 357865.60333921,\n",
       "       277661.20606564, 327555.82045945, 310188.78761661, 361467.80039482,\n",
       "       340222.33834091, 281842.72155653, 359043.25582781, 337577.60958766,\n",
       "       400171.40952679, 343173.97434737, 361451.30908665, 344676.00104722,\n",
       "       382294.57748278, 367641.70535485, 410053.94331403, 384505.17220561,\n",
       "       387984.83162283, 350397.82023492, 312375.74683515, 397170.68783035,\n",
       "       319666.32727016, 359220.59811695, 315126.64844871, 286017.93718778,\n",
       "       337014.44515261, 297284.11746211, 284791.5006832 , 370132.0140897 ,\n",
       "       275722.95122128, 336645.18385437, 369339.74386818, 324472.60145792,\n",
       "       307426.30593789, 318291.19676784, 351228.03885974, 321992.189821  ,\n",
       "       352263.28399745, 343186.90079122, 358472.52566951, 365401.74892198,\n",
       "       339142.9347267 , 334512.48876988, 344170.2369571 , 337175.99409901,\n",
       "       312820.25297768, 333325.51198094, 370635.25300221, 360124.82958396,\n",
       "       290799.79043669, 358714.86374543, 308459.55338507, 332319.09206449,\n",
       "       336092.39278621, 364065.88073666, 361692.66227411, 356925.33658411,\n",
       "       270123.70375355, 336544.11620368, 356995.54533834, 374851.54668715,\n",
       "       314758.03982117, 378701.63679428, 329824.43562181, 372204.86656662,\n",
       "       317654.63013994, 345267.80278056, 373608.78350556, 364045.76765523,\n",
       "       355733.74838384, 366363.87675823, 367485.66054533, 399638.32805937,\n",
       "       345321.24725593, 299462.87916938, 312739.31080592, 344576.54682816,\n",
       "       336473.64756408, 359045.42300028, 332647.28028816, 346716.17367018,\n",
       "       354382.06083684, 268257.05444625, 359296.38074722, 357385.3705597 ,\n",
       "       325829.30702145, 352743.32605413, 329401.65374254, 311666.27848286,\n",
       "       356133.24588632, 317361.0987767 , 344234.62149184, 326897.17287173,\n",
       "       388640.93623757, 366696.3196764 , 335017.66856953, 363441.8521452 ,\n",
       "       346936.35391151, 341416.42028064, 375512.85809574, 401747.8460028 ,\n",
       "       391393.63055877, 317659.81980119, 395881.90118006, 286025.23979357,\n",
       "       283818.7285166 , 404501.5386648 , 369444.67481503, 313547.65481169,\n",
       "       312044.32521549, 400417.59396418, 315639.4571002 , 385340.14493214,\n",
       "       333548.69831808, 332071.53154671, 402170.93165489, 323829.18740272,\n",
       "       333354.90832185, 353261.309728  , 328088.75340605, 354479.48240178,\n",
       "       341798.81576065, 376259.76747799, 282371.6873092 , 406233.80571137,\n",
       "       341903.7595781 , 327667.86905027, 394001.16979315, 327687.66748715,\n",
       "       332820.15228665, 372310.32692342, 385547.40129637, 320595.18634602,\n",
       "       334652.36082859, 399030.33541617, 323817.30326953, 343480.43878813,\n",
       "       352096.27934295, 347785.55863551, 358796.79376902, 378062.94611931,\n",
       "       363325.33099803, 387915.09588787, 342341.71275319, 341426.5094111 ,\n",
       "       319309.82306713, 373736.32831866, 375362.52681011, 344998.11702711,\n",
       "       321591.55284126, 346717.34469128, 332711.01387717, 323609.35553286,\n",
       "       310563.98955618, 324659.03789111, 311169.3931444 , 347463.58736167,\n",
       "       348261.65755603, 339776.01798801, 289913.02804848, 279798.85315721,\n",
       "       355622.3449551 , 388841.45832497, 325231.1634554 , 369828.80066305,\n",
       "       350778.90136814, 329486.33697113, 294407.01559258, 330156.77809625,\n",
       "       338028.82201846, 303758.54137306, 318284.60428489, 314999.22507324,\n",
       "       307005.03949909, 336594.42332469, 323266.17179983, 313612.07881742,\n",
       "       289557.72107622, 322063.32227916, 339323.82080477, 315290.34866062,\n",
       "       275230.46466536, 318678.45761229, 386742.75903302, 359723.88326967,\n",
       "       390520.19655515, 372355.46820276, 330450.87841732, 395630.1859389 ,\n",
       "       291255.3744175 , 352869.87074485, 340972.00708409, 352784.85758443,\n",
       "       326927.42519003, 297282.66671827, 377718.04546298, 353627.23780386,\n",
       "       365344.46047512, 358780.43263335, 358013.16785274, 359168.76485898,\n",
       "       322850.83956519, 359460.30170622, 342032.8652528 , 335209.44309551,\n",
       "       369760.53639904, 288530.32135102, 316922.07357085, 332579.07356493,\n",
       "       388336.45452982, 348252.02917149, 321324.74614203, 302692.83868874,\n",
       "       366806.36914496, 396918.020809  , 322685.14872567, 363933.05634541,\n",
       "       370968.07621187, 320588.22676293, 302140.08997587, 359785.71420244,\n",
       "       353756.02305473, 304643.57309541, 373034.51325091, 329006.71998125,\n",
       "       358522.26552502, 364712.46752967, 339911.61757647, 332920.05252113,\n",
       "       351086.04108007, 223257.21868849, 321251.63668794, 304571.44753921,\n",
       "       316930.92989134, 327039.1074163 , 371761.16063182, 380391.1035347 ,\n",
       "       303862.57610055, 393505.38422782, 281353.16247067, 326922.2820985 ,\n",
       "       330733.68776413, 317515.94785051, 385122.97530986, 444455.59536277,\n",
       "       377606.14509861, 338044.33684475, 317740.01848275, 309113.42134637,\n",
       "       343416.89921364, 325132.20190029, 345776.11062177, 436241.13208698,\n",
       "       317380.62658989, 342760.16826489, 368179.72127952, 347953.73523899,\n",
       "       343697.23247263, 340953.29108047, 356366.12122134, 325883.65914719,\n",
       "       315168.71387543, 318011.50814797, 311725.71289199, 353279.45784071,\n",
       "       349325.76086872, 310766.21082615, 341778.14834355, 345093.33866936,\n",
       "       376874.49461119, 392698.60722401, 310830.73203932, 384608.92968563,\n",
       "       363663.11132879, 356287.22131979, 374014.56891837, 355428.42742405,\n",
       "       292831.31222194, 340403.23715654, 271201.38650103, 349734.96366273,\n",
       "       311274.28968093, 350116.08255042, 351246.38657351, 345516.1798184 ,\n",
       "       326439.8265933 , 292040.14367547, 323377.51520136, 247557.82709842,\n",
       "       332835.15352396, 286801.47333615, 341706.44112474, 289329.97691494,\n",
       "       371555.74998535, 362306.75272594, 330664.71870627, 387694.75455033,\n",
       "       394579.02544856, 372704.57679371, 381072.55004315, 325007.94296363,\n",
       "       371308.91463316, 343441.92791832, 270307.36864704, 350756.67943123,\n",
       "       314140.64114672, 385454.512425  , 365722.67325351, 365546.24964681,\n",
       "       402015.56913904, 296332.21718584, 416893.38206194, 344814.62401287,\n",
       "       405313.44658767, 370726.05520161, 343123.84747309, 369025.4374923 ,\n",
       "       308435.91365751, 349164.97000181, 369398.1337397 , 350386.85187815,\n",
       "       338704.51283374, 306669.22473582, 343185.37343705, 375573.83657453,\n",
       "       358763.72302718, 386317.51126249, 330703.60169978, 295810.97784733,\n",
       "       372956.4469576 , 317434.18926121, 353937.16803048, 338236.14844345,\n",
       "       309764.68715744, 298853.36016254, 348053.00349409, 391045.84752658,\n",
       "       367942.69522133, 325784.52019032, 334638.74153497, 325018.42485969,\n",
       "       371727.73375341, 353677.90386111, 365095.77168448, 392121.04084413,\n",
       "       317797.07580544, 374384.80940376, 355612.80777998, 311447.89623125,\n",
       "       341136.72142633, 376147.10307841, 302252.08139343, 356781.34723417,\n",
       "       368814.01922094, 364890.3965703 , 342241.2232607 , 327765.34163669,\n",
       "       338849.47892361, 346051.55143205, 316545.08480349, 304021.3611064 ,\n",
       "       376332.89760897, 380383.44726494, 317200.73853159, 304013.48019136,\n",
       "       327849.19607534, 360157.87957926, 318180.80915615, 330876.28949743,\n",
       "       295651.5022228 , 308617.06621038, 341603.24624669, 303719.11546493,\n",
       "       357917.04546172, 387512.61584534, 361711.39465317, 303129.34012401,\n",
       "       289607.19527428, 422412.89271875, 384765.65563225, 338114.4942267 ,\n",
       "       319711.08208163, 407152.06629085, 320151.88412535, 308280.20092868,\n",
       "       325020.40873386, 346101.77223353, 368128.72884622, 296651.38760963,\n",
       "       335801.02613617, 298674.91347305, 363204.15227373, 319931.0078699 ,\n",
       "       315500.02326014, 320101.93308446, 307065.64058979, 372122.59478849,\n",
       "       334491.59913269, 303714.93743434, 395691.42385882, 293506.62398831,\n",
       "       355150.04333044, 335864.63180985, 402295.66843899, 354643.87775279,\n",
       "       335413.61214751, 355783.71956114, 324835.59165517, 374918.55725048,\n",
       "       272358.43603977, 330348.20503146, 312625.28165763, 334108.3664038 ,\n",
       "       377336.76995213, 313801.33562389, 372202.27649654, 299659.6757401 ,\n",
       "       390940.55637706, 377829.48889391, 312212.0696058 , 391310.33155672,\n",
       "       373685.79103162, 369001.44379865, 326902.50054993, 397436.67105047,\n",
       "       364443.90040645, 330409.42307294, 319908.13678764, 346989.5177548 ,\n",
       "       375909.20771856, 367532.50100787, 283982.97902269, 344732.19667766,\n",
       "       326593.99892657, 371165.79067784, 290723.08205003, 262227.31720304,\n",
       "       351242.7452425 , 349319.6303595 , 329106.6621664 , 354236.9504988 ,\n",
       "       387338.91670458, 343303.25067355, 330897.49828688, 377637.64498994,\n",
       "       334351.68457365, 341695.08102545, 334673.20465759, 315791.98968153,\n",
       "       303973.73580996, 311029.98043778, 316361.25292053, 320889.87361285,\n",
       "       373487.33095676, 370317.36081897, 342893.86422325, 362610.37900915,\n",
       "       341508.1196102 , 385548.73761254, 403803.09093173, 377063.27192492,\n",
       "       389477.81178545, 429264.13292274, 315330.45838299, 325625.25820395,\n",
       "       355037.23977359, 323652.43036439, 325211.72963713, 324356.42904892,\n",
       "       340874.32936583, 275056.92999144, 365733.41731525, 359821.53707228,\n",
       "       397426.66133205, 296696.4614997 , 335628.49473163, 345968.82524692,\n",
       "       347565.41949526, 348646.04175736, 297467.4423214 , 338511.16883993,\n",
       "       347678.62696675, 364820.41427002, 323224.49343827, 297992.86219703,\n",
       "       344834.64545467, 389239.73960272, 335627.45552008, 350132.39217137,\n",
       "       360063.01031704, 329601.99344938, 363471.7611013 , 362834.37927939,\n",
       "       325766.11061221, 332347.61999019, 300010.72633577, 330226.79890568,\n",
       "       348170.74100167, 373560.26381169, 323194.92650013, 354706.92744519,\n",
       "       304122.88309636, 308522.62499363, 333614.41478501, 392294.44156825,\n",
       "       415519.89096083, 335732.21239915, 385595.93813231, 301170.00239058,\n",
       "       358622.74688057, 343979.73939813, 348338.71436622, 385209.64886223,\n",
       "       362747.60433799, 275251.13673567, 369056.91520308, 352273.70919929,\n",
       "       300666.40920319, 332734.20247583, 297211.42261164, 349795.60890586,\n",
       "       303580.16464178, 313256.42859822, 319318.91784714, 333715.53443006,\n",
       "       307726.30886753, 379363.07335136, 371407.78516146, 359281.42461091,\n",
       "       367580.01140619, 344394.2524897 , 347632.04153029, 379304.93469385,\n",
       "       338735.82987905, 394118.16487974, 317488.01075527, 333434.75064466,\n",
       "       368283.2630402 , 387788.15502463, 343663.63670979, 349534.60904512,\n",
       "       283556.8239175 , 299760.44395947, 360511.58655519, 315970.69565997,\n",
       "       350475.35972731, 334836.86050129, 316886.57697433, 342032.40380335,\n",
       "       349068.81089791, 364917.15010963, 329173.9934652 , 381402.7631348 ,\n",
       "       366739.04765438, 383980.8080758 , 344335.65820361, 360354.31591579,\n",
       "       285257.31571953, 382148.25306127, 371536.32842836, 359076.1100049 ,\n",
       "       305752.6160175 , 323601.08732612, 312549.76364856, 392121.41879499,\n",
       "       306927.83248326, 381411.69275552, 336891.57286759, 301958.30301661,\n",
       "       342608.72237437, 288742.08108726, 315301.5026282 , 330693.14061584,\n",
       "       354454.45243497, 370037.65968276, 339764.33428537, 350937.83853268,\n",
       "       406491.03950949, 357325.84240263, 373437.67757669, 338312.29935266,\n",
       "       323084.56947676, 216407.5578901 , 342996.97952966, 380856.04552101,\n",
       "       348307.58265968, 411227.3996429 , 336432.70667236, 298418.62602744,\n",
       "       336866.9889041 , 399493.6424014 , 393232.40985046, 362447.9505449 ,\n",
       "       374560.05843946, 345962.10326404, 371823.6067026 , 327689.30450377,\n",
       "       334345.46969096, 365253.91690827, 311314.8908189 , 358709.16474477,\n",
       "       336683.12643537, 339113.52703173, 317726.2449386 , 359162.62580437,\n",
       "       304649.14266558, 321147.709729  , 399512.69924781, 320597.64031578,\n",
       "       338054.57042481, 359299.62568303])"
      ]
     },
     "execution_count": 149,
     "metadata": {},
     "output_type": "execute_result"
    }
   ],
   "source": [
    "ypred"
   ]
  },
  {
   "cell_type": "code",
   "execution_count": null,
   "metadata": {},
   "outputs": [],
   "source": []
  }
 ],
 "metadata": {
  "kernelspec": {
   "display_name": "Python 3",
   "language": "python",
   "name": "python3"
  },
  "language_info": {
   "codemirror_mode": {
    "name": "ipython",
    "version": 3
   },
   "file_extension": ".py",
   "mimetype": "text/x-python",
   "name": "python",
   "nbconvert_exporter": "python",
   "pygments_lexer": "ipython3",
   "version": "3.8.3"
  }
 },
 "nbformat": 4,
 "nbformat_minor": 4
}
